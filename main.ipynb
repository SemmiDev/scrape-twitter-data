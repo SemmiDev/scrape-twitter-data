{
 "cells": [
  {
   "cell_type": "code",
   "execution_count": 1,
   "metadata": {
    "collapsed": false
   },
   "outputs": [],
   "source": [
    "import snscrape.modules.twitter as sntwitter\n",
    "import pandas as pd"
   ]
  },
  {
   "cell_type": "code",
   "execution_count": null,
   "metadata": {
    "collapsed": false
   },
   "outputs": [],
   "source": [
    "import snscrape.modules.twitter as sntwitter\n",
    "import pandas as pd\n",
    "\n",
    "# query = \"(from:elonmusk) until:2023-03-03 since:2023-01-01\"\n",
    "keyword = \"Ramadhan\"\n",
    "num_of_tweets = 100\n",
    "\n",
    "tweets_list = []\n",
    "\n",
    "for i,tweet in enumerate(sntwitter.TwitterSearchScraper(keyword + ' lang:id').get_items()):\n",
    "    if i>num_of_tweets:\n",
    "        break\n",
    "    \n",
    "    print(f\"Tweet {i+1}: {tweet.rawContent} berhasil diambil\")\n",
    "    tweets_list.append([\n",
    "        tweet.date,\n",
    "        tweet.id,\n",
    "        tweet.user.username,\n",
    "        tweet.likeCount,\n",
    "        tweet.retweetCount,\n",
    "        tweet.rawContent,\n",
    "    ])\n",
    "    \n",
    "tweets_df = pd.DataFrame(tweets_list, columns=[\n",
    "    'Datetime', 'Tweet Id', 'Username', 'Likes', 'Retweets', 'Text'\n",
    "])\n",
    "\n",
    "tweets_df.head()\n",
    "tweets_df.to_csv('ramadhan_tweets.csv', index=False)"
   ]
  },
  {
   "cell_type": "code",
   "execution_count": null,
   "metadata": {
    "collapsed": false,
    "pycharm": {
     "is_executing": true
    }
   },
   "outputs": [],
   "source": [
    "import nltk\n",
    "nltk.download('stopwords')\n",
    "nltk.download('punkt')"
   ]
  },
  {
   "cell_type": "code",
   "execution_count": 5,
   "metadata": {
    "collapsed": false
   },
   "outputs": [],
   "source": [
    "import urllib.request\n",
    "import string\n",
    "from Sastrawi.StopWordRemover.StopWordRemoverFactory import StopWordRemoverFactory\n",
    "from Sastrawi.Stemmer.StemmerFactory import StemmerFactory\n",
    "from tqdm import tqdm\n",
    "from sklearn.feature_extraction.text import TfidfVectorizer\n",
    "from sklearn.metrics.pairwise import cosine_similarity\n",
    "import numpy as np\n",
    "import itertools\n",
    "import pandas as pd\n",
    "import pickle\n",
    "from IPython.display import display, clear_output"
   ]
  },
  {
   "cell_type": "code",
   "execution_count": null,
   "metadata": {
    "collapsed": false
   },
   "outputs": [],
   "source": [
    "rawdf = pd.read_csv('ramadhan_tweets.csv')\n",
    "rawdf.head() # show first 5 rows\n",
    "tweet_text = rawdf['Text']\n",
    "tweet_text"
   ]
  },
  {
   "cell_type": "code",
   "execution_count": null,
   "metadata": {
    "collapsed": false
   },
   "outputs": [],
   "source": [
    "# ------ Case Folding --------\n",
    "'''\n",
    "Case folding merupakan teknik yang digunakan untuk menghilangkan tanda baca dan mengubah teks\n",
    "ke dalam bentuk lowercase. Sehingga yang diterima adalah huruf sesuai dengan abjad dimulai dari a sampai z,\n",
    "selainnya dianggap sebagai delimiter\n",
    "'''\n",
    "\n",
    "tweet_text = tweet_text.str.lower()\n",
    "print('Case Folding Result : \\n')\n",
    "print(tweet_text.head(5))\n",
    "print('\\n\\n\\n')"
   ]
  },
  {
   "cell_type": "code",
   "execution_count": 9,
   "metadata": {
    "collapsed": false
   },
   "outputs": [],
   "source": [
    "import string\n",
    "import re #regex library\n",
    "\n",
    "# import word_tokenize & FreqDist from NLTK\n",
    "from nltk.tokenize import word_tokenize\n",
    "from nltk.probability import FreqDist"
   ]
  },
  {
   "cell_type": "code",
   "execution_count": null,
   "metadata": {
    "collapsed": false
   },
   "outputs": [],
   "source": [
    "# ------ Tokenizing ---------\n",
    "\"\"\"\n",
    "Tahapan ini merupakan proses pemotongan string masukan berdasarkan tiap kata yang menyusunnya.\n",
    "\"\"\"\n",
    "\n",
    "def remove_tweet_special(text):\n",
    "    # remove tab, new line, ans back slice\n",
    "    text = text.replace('\\\\t',\" \").replace('\\\\n',\" \").replace('\\\\u',\" \").replace('\\\\',\"\")\n",
    "    # remove non ASCII (emoticon, chinese word, .etc)\n",
    "    text = text.encode('ascii', 'replace').decode('ascii')\n",
    "    # remove mention, link, hashtag\n",
    "    text = ' '.join(re.sub(\"([@#][A-Za-z0-9]+)|(\\w+:\\/\\/\\S+)\",\" \", text).split())\n",
    "    # remove incomplete URL\n",
    "    return text.replace(\"http://\", \" \").replace(\"https://\", \" \")\n",
    "\n",
    "tweet_text = tweet_text.apply(remove_tweet_special)\n",
    "\n",
    "#remove number\n",
    "def remove_number(text):\n",
    "    return  re.sub(r\"\\d+\", \"\", text)\n",
    "\n",
    "tweet_text = tweet_text.apply(remove_number)\n",
    "\n",
    "#remove punctuation (#, $, %, ^, &, *, (, ), _, +, {, }, |, :, <, >, ?, /, ~, `, =, [, ], \\, ;, ', \", ,, ., !)\n",
    "def remove_punctuation(text):\n",
    "    return text.translate(str.maketrans(\"\",\"\",string.punctuation))\n",
    "\n",
    "tweet_text = tweet_text.apply(remove_punctuation)\n",
    "\n",
    "#remove whitespace leading & trailing\n",
    "def remove_whitespace_LT(text):\n",
    "    return text.strip()\n",
    "\n",
    "tweet_text = tweet_text.apply(remove_whitespace_LT)\n",
    "\n",
    "#remove multiple whitespace into single whitespace\n",
    "def remove_whitespace_multiple(text):\n",
    "    return re.sub('\\s+',' ',text)\n",
    "\n",
    "tweet_text = tweet_text.apply(remove_whitespace_multiple)\n",
    "\n",
    "# remove single character\n",
    "def remove_singl_char(text):\n",
    "    return re.sub(r\"\\b[a-zA-Z]\\b\", \"\", text)\n",
    "\n",
    "tweet_text = tweet_text.apply(remove_singl_char)\n",
    "\n",
    "# NLTK word rokenize\n",
    "def word_tokenize_wrapper(text):\n",
    "    return word_tokenize(text)\n",
    "\n",
    "rawdf['token'] = tweet_text.apply(word_tokenize_wrapper)\n",
    "\n",
    "print('Tokenizing Result : \\n')\n",
    "print(rawdf['token'].head(5))\n",
    "print('\\n\\n\\n')"
   ]
  },
  {
   "cell_type": "code",
   "execution_count": null,
   "metadata": {
    "collapsed": false
   },
   "outputs": [],
   "source": [
    "from nltk.corpus import stopwords\n",
    "\"\"\"\n",
    "Kata yang dianggap tidak penting akan dihilangkan dalam proses ini. Tahapan ini termasuk ke dalam\n",
    "proses filtering. Terdapat dua metode yang dapat digunakan yaitu stoplist untuk membuang kata kurang\n",
    "penting, atau wordlist untuk menyimpan kata yang penting.\n",
    "Contoh stopword adalah “yang”, “di”, “dan”, “dari” dan lain sebagainya\n",
    "\"\"\"\n",
    "\n",
    "# ----------------------- get stopword from NLTK stopword -------------------------------\n",
    "# get stopword indonesia\n",
    "list_stopwords = stopwords.words('indonesian')\n",
    "\n",
    "# ---------------------------- manualy add stopword  ------------------------------------\n",
    "# append additional stopword\n",
    "list_stopwords.extend([\"yg\", \"dg\", \"rt\", \"dgn\", \"ny\", \"d\", 'klo',\n",
    "                       'kalo', 'amp', 'biar', 'bikin', 'bilang',\n",
    "                       'gak', 'ga', 'krn', 'nya', 'nih', 'sih',\n",
    "                       'si', 'tau', 'tdk', 'tuh', 'utk', 'ya',\n",
    "                       'jd', 'jgn', 'sdh', 'aja', 'n', 't',\n",
    "                       'nyg', 'hehe', 'pen', 'u', 'nan', 'loh', 'rt',\n",
    "                       '&amp', 'yah'])\n",
    "\n",
    "# convert list to dictionary\n",
    "list_stopwords = set(list_stopwords)\n",
    "\n",
    "#remove stopword pada list token\n",
    "def stopwords_removal(words):\n",
    "    return [word for word in words if word not in list_stopwords]\n",
    "\n",
    "rawdf['tweet_tokens_WSW'] = rawdf['token'].apply(stopwords_removal)\n",
    "print(rawdf['tweet_tokens_WSW'].head(5))"
   ]
  },
  {
   "cell_type": "code",
   "execution_count": null,
   "metadata": {
    "collapsed": false
   },
   "outputs": [],
   "source": [
    "### --- Stemming --- ####\n",
    "\"\"\"\n",
    "proses mengembalikan suatu kata kepada bentuk dasarnya. Jika dalam Bahasa\n",
    "Indonesia, proses stemming dapat digunakan untuk menghilangkan imbuhan yang menyertai kata dasarnya.\n",
    "\"\"\"\n",
    "\n",
    "# import Sastrawi package\n",
    "from Sastrawi.Stemmer.StemmerFactory import StemmerFactory\n",
    "import swifter\n",
    "\n",
    "# create stemmer\n",
    "factory = StemmerFactory()\n",
    "stemmer = factory.create_stemmer()\n",
    "\n",
    "# stemmed\n",
    "def stemmed_wrapper(term):\n",
    "    return stemmer.stem(term)\n",
    "\n",
    "term_dict = {}\n",
    "\n",
    "for document in rawdf['tweet_tokens_WSW']:\n",
    "    for term in document:\n",
    "        if term not in term_dict:\n",
    "            term_dict[term] = ' '\n",
    "\n",
    "print(len(term_dict))\n",
    "print(\"------------------------\")\n",
    "\n",
    "for term in term_dict:\n",
    "    term_dict[term] = stemmed_wrapper(term)\n",
    "    print(term,\":\" ,term_dict[term])\n",
    "\n",
    "print(term_dict)\n",
    "print(\"------------------------\")\n",
    "\n",
    "\n",
    "# apply stemmed term to dataframe\n",
    "def get_stemmed_term(document):\n",
    "    return [term_dict[term] for term in document]\n",
    "\n",
    "rawdf['tweet_tokens_stemmed'] = rawdf['tweet_tokens_WSW'].swifter.apply(get_stemmed_term)\n",
    "print(rawdf['tweet_tokens_stemmed'])"
   ]
  },
  {
   "cell_type": "code",
   "execution_count": 16,
   "metadata": {
    "collapsed": false
   },
   "outputs": [],
   "source": [
    "rawdf.to_csv(\"preprocessing_ramadhan.csv\")"
   ]
  },
  {
   "cell_type": "code",
   "execution_count": null,
   "metadata": {
    "collapsed": false
   },
   "outputs": [],
   "source": [
    "# import StemmerFactory class\n",
    "from Sastrawi.Stemmer.StemmerFactory import StemmerFactory\n",
    "\n",
    "# create stemmer\n",
    "factory = StemmerFactory()\n",
    "stemmer = factory.create_stemmer()\n",
    "\n",
    "for i in tweet_text:\n",
    "  # stemming process\n",
    "  sentence = i\n",
    "  output   = stemmer.stem(sentence)\n",
    "\n",
    "  print(output)\n"
   ]
  },
  {
   "cell_type": "code",
   "execution_count": 18,
   "metadata": {
    "collapsed": false
   },
   "outputs": [
    {
     "data": {
      "text/html": [
       "<div>\n",
       "<style scoped>\n",
       "    .dataframe tbody tr th:only-of-type {\n",
       "        vertical-align: middle;\n",
       "    }\n",
       "\n",
       "    .dataframe tbody tr th {\n",
       "        vertical-align: top;\n",
       "    }\n",
       "\n",
       "    .dataframe thead th {\n",
       "        text-align: right;\n",
       "    }\n",
       "</style>\n",
       "<table border=\"1\" class=\"dataframe\">\n",
       "  <thead>\n",
       "    <tr style=\"text-align: right;\">\n",
       "      <th></th>\n",
       "      <th>tweet</th>\n",
       "    </tr>\n",
       "  </thead>\n",
       "  <tbody>\n",
       "    <tr>\n",
       "      <th>0</th>\n",
       "      <td>['jiwa', 'komunis', 'nampak', 'ummat', 'islam'...</td>\n",
       "    </tr>\n",
       "    <tr>\n",
       "      <th>1</th>\n",
       "      <td>['sebentar', 'ramadhan', 'latih', 'makan', 'si...</td>\n",
       "    </tr>\n",
       "    <tr>\n",
       "      <th>2</th>\n",
       "      <td>['preramadhan', 'checklist', 'taubat', 'doa', ...</td>\n",
       "    </tr>\n",
       "    <tr>\n",
       "      <th>3</th>\n",
       "      <td>['tweetmu']</td>\n",
       "    </tr>\n",
       "    <tr>\n",
       "      <th>4</th>\n",
       "      <td>['lia', 'plus', 'rawan', 'cedera', 'sis', 'rum...</td>\n",
       "    </tr>\n",
       "  </tbody>\n",
       "</table>\n",
       "</div>"
      ],
      "text/plain": [
       "                                               tweet\n",
       "0  ['jiwa', 'komunis', 'nampak', 'ummat', 'islam'...\n",
       "1  ['sebentar', 'ramadhan', 'latih', 'makan', 'si...\n",
       "2  ['preramadhan', 'checklist', 'taubat', 'doa', ...\n",
       "3                                        ['tweetmu']\n",
       "4  ['lia', 'plus', 'rawan', 'cedera', 'sis', 'rum..."
      ]
     },
     "execution_count": 18,
     "metadata": {},
     "output_type": "execute_result"
    }
   ],
   "source": [
    "import pandas as pd\n",
    "import numpy as np\n",
    "\n",
    "TWEET_DATA = pd.read_csv(\"preprocessing_ramadhan.csv\", usecols=[\"tweet_tokens_stemmed\"])\n",
    "TWEET_DATA.columns = [\"tweet\"]\n",
    "\n",
    "TWEET_DATA.head()"
   ]
  },
  {
   "cell_type": "code",
   "execution_count": 19,
   "metadata": {
    "collapsed": false
   },
   "outputs": [
    {
     "data": {
      "text/html": [
       "<div>\n",
       "<style scoped>\n",
       "    .dataframe tbody tr th:only-of-type {\n",
       "        vertical-align: middle;\n",
       "    }\n",
       "\n",
       "    .dataframe tbody tr th {\n",
       "        vertical-align: top;\n",
       "    }\n",
       "\n",
       "    .dataframe thead th {\n",
       "        text-align: right;\n",
       "    }\n",
       "</style>\n",
       "<table border=\"1\" class=\"dataframe\">\n",
       "  <thead>\n",
       "    <tr style=\"text-align: right;\">\n",
       "      <th></th>\n",
       "      <th>tweet</th>\n",
       "      <th>tweet_list</th>\n",
       "    </tr>\n",
       "  </thead>\n",
       "  <tbody>\n",
       "    <tr>\n",
       "      <th>0</th>\n",
       "      <td>['jiwa', 'komunis', 'nampak', 'ummat', 'islam'...</td>\n",
       "      <td>[jiwa, komunis, nampak, ummat, islam, dekat, p...</td>\n",
       "    </tr>\n",
       "    <tr>\n",
       "      <th>1</th>\n",
       "      <td>['sebentar', 'ramadhan', 'latih', 'makan', 'si...</td>\n",
       "      <td>[sebentar, ramadhan, latih, makan, siang]</td>\n",
       "    </tr>\n",
       "    <tr>\n",
       "      <th>2</th>\n",
       "      <td>['preramadhan', 'checklist', 'taubat', 'doa', ...</td>\n",
       "      <td>[preramadhan, checklist, taubat, doa, jumpa, r...</td>\n",
       "    </tr>\n",
       "    <tr>\n",
       "      <th>3</th>\n",
       "      <td>['tweetmu']</td>\n",
       "      <td>[tweetmu]</td>\n",
       "    </tr>\n",
       "    <tr>\n",
       "      <th>4</th>\n",
       "      <td>['lia', 'plus', 'rawan', 'cedera', 'sis', 'rum...</td>\n",
       "      <td>[lia, plus, rawan, cedera, sis, rumor, main, a...</td>\n",
       "    </tr>\n",
       "  </tbody>\n",
       "</table>\n",
       "</div>"
      ],
      "text/plain": [
       "                                               tweet  \\\n",
       "0  ['jiwa', 'komunis', 'nampak', 'ummat', 'islam'...   \n",
       "1  ['sebentar', 'ramadhan', 'latih', 'makan', 'si...   \n",
       "2  ['preramadhan', 'checklist', 'taubat', 'doa', ...   \n",
       "3                                        ['tweetmu']   \n",
       "4  ['lia', 'plus', 'rawan', 'cedera', 'sis', 'rum...   \n",
       "\n",
       "                                          tweet_list  \n",
       "0  [jiwa, komunis, nampak, ummat, islam, dekat, p...  \n",
       "1          [sebentar, ramadhan, latih, makan, siang]  \n",
       "2  [preramadhan, checklist, taubat, doa, jumpa, r...  \n",
       "3                                          [tweetmu]  \n",
       "4  [lia, plus, rawan, cedera, sis, rumor, main, a...  "
      ]
     },
     "execution_count": 19,
     "metadata": {},
     "output_type": "execute_result"
    }
   ],
   "source": [
    "# convert list formated string to list\n",
    "import ast\n",
    "\n",
    "def convert_text_list(texts):\n",
    "    texts = ast.literal_eval(texts)\n",
    "    return [text for text in texts]\n",
    "\n",
    "TWEET_DATA[\"tweet_list\"] = TWEET_DATA[\"tweet\"].apply(convert_text_list)\n",
    "TWEET_DATA.head()\n"
   ]
  },
  {
   "cell_type": "code",
   "execution_count": 24,
   "metadata": {
    "collapsed": false
   },
   "outputs": [
    {
     "data": {
      "text/plain": [
       "{'jiwa': 0.06666666666666667,\n",
       " 'komunis': 0.06666666666666667,\n",
       " 'nampak': 0.06666666666666667,\n",
       " 'ummat': 0.06666666666666667,\n",
       " 'islam': 0.06666666666666667,\n",
       " 'dekat': 0.06666666666666667,\n",
       " 'puasa': 0.06666666666666667,\n",
       " 'ramadhan': 0.06666666666666667,\n",
       " 'covid': 0.06666666666666667,\n",
       " 'jg': 0.06666666666666667,\n",
       " 'dtg': 0.06666666666666667,\n",
       " 'wkt': 0.06666666666666667,\n",
       " 'hhhhhhh': 0.06666666666666667,\n",
       " 'komplak': 0.06666666666666667,\n",
       " 'lo': 0.06666666666666667}"
      ]
     },
     "execution_count": 24,
     "metadata": {},
     "output_type": "execute_result"
    }
   ],
   "source": [
    "def calc_TF(document):\n",
    "    # Counts the number of times the word appears in review\n",
    "    TF_dict = {}\n",
    "    for term in document:\n",
    "        if term in TF_dict:\n",
    "            TF_dict[term] += 1\n",
    "        else:\n",
    "            TF_dict[term] = 1\n",
    "    # Computes tf for each word\n",
    "    for term in TF_dict:\n",
    "        # rumus = frekuensi kemunculan term / jumlah term pada dokumen\n",
    "        TF_dict[term] = TF_dict[term] / len(document)\n",
    "    return TF_dict\n",
    "\n",
    "TWEET_DATA[\"TF_dict\"] = TWEET_DATA['tweet_list'].apply(calc_TF)\n",
    "# TWEET_DATA[\"TF_dict\"].head()\n",
    "TWEET_DATA[\"TF_dict\"][0]\n"
   ]
  },
  {
   "cell_type": "code",
   "execution_count": 25,
   "metadata": {
    "collapsed": false
   },
   "outputs": [
    {
     "name": "stdout",
     "output_type": "stream",
     "text": [
      "                term \t TF\n",
      "\n",
      "                jiwa \t 0.06666666666666667\n",
      "             komunis \t 0.06666666666666667\n",
      "              nampak \t 0.06666666666666667\n",
      "               ummat \t 0.06666666666666667\n",
      "               islam \t 0.06666666666666667\n",
      "               dekat \t 0.06666666666666667\n",
      "               puasa \t 0.06666666666666667\n",
      "            ramadhan \t 0.06666666666666667\n",
      "               covid \t 0.06666666666666667\n",
      "                  jg \t 0.06666666666666667\n",
      "                 dtg \t 0.06666666666666667\n",
      "                 wkt \t 0.06666666666666667\n",
      "             hhhhhhh \t 0.06666666666666667\n",
      "             komplak \t 0.06666666666666667\n",
      "                  lo \t 0.06666666666666667\n"
     ]
    }
   ],
   "source": [
    "index = 0\n",
    "\n",
    "print('%20s' % \"term\", \"\\t\", \"TF\\n\")\n",
    "for key in TWEET_DATA[\"TF_dict\"][index]:\n",
    "    print('%20s' % key, \"\\t\", TWEET_DATA[\"TF_dict\"][index][key])"
   ]
  },
  {
   "cell_type": "code",
   "execution_count": 26,
   "metadata": {
    "collapsed": false
   },
   "outputs": [],
   "source": [
    "def calc_DF(tfDict):\n",
    "    count_DF = {}\n",
    "    # Run through each document's tf dictionary and increment countDict's (term, doc) pair\n",
    "    for document in tfDict:\n",
    "        for term in document:\n",
    "            if term in count_DF:\n",
    "                count_DF[term] += 1\n",
    "            else:\n",
    "                count_DF[term] = 1\n",
    "    return count_DF\n",
    "\n",
    "DF = calc_DF(TWEET_DATA[\"TF_dict\"])"
   ]
  },
  {
   "cell_type": "code",
   "execution_count": 27,
   "metadata": {
    "collapsed": false
   },
   "outputs": [],
   "source": [
    "n_document = len(TWEET_DATA)\n",
    "\n",
    "def calc_IDF(__n_document, __DF):\n",
    "    IDF_Dict = {}\n",
    "    for term in __DF:\n",
    "        IDF_Dict[term] = np.log(__n_document / (__DF[term] + 1))\n",
    "    return IDF_Dict\n",
    "\n",
    "#Stores the idf dictionary\n",
    "IDF = calc_IDF(n_document, DF)"
   ]
  },
  {
   "cell_type": "code",
   "execution_count": 28,
   "metadata": {
    "collapsed": false
   },
   "outputs": [],
   "source": [
    "#calc TF-IDF\n",
    "def calc_TF_IDF(TF):\n",
    "    TF_IDF_Dict = {}\n",
    "    #For each word in the review, we multiply its tf and its idf.\n",
    "    for key in TF:\n",
    "        TF_IDF_Dict[key] = TF[key] * IDF[key]\n",
    "    return TF_IDF_Dict\n",
    "\n",
    "#Stores the TF-IDF Series\n",
    "TWEET_DATA[\"TF-IDF_dict\"] = TWEET_DATA[\"TF_dict\"].apply(calc_TF_IDF)"
   ]
  },
  {
   "cell_type": "code",
   "execution_count": 29,
   "metadata": {
    "collapsed": false
   },
   "outputs": [
    {
     "name": "stdout",
     "output_type": "stream",
     "text": [
      "                term \t         TF \t              TF-IDF\n",
      "\n",
      "                jiwa \t 0.06666666666666667 \t 0.2614648890854209\n",
      "             komunis \t 0.06666666666666667 \t 0.2614648890854209\n",
      "              nampak \t 0.06666666666666667 \t 0.2614648890854209\n",
      "               ummat \t 0.06666666666666667 \t 0.2614648890854209\n",
      "               islam \t 0.06666666666666667 \t 0.23443388187821\n",
      "               dekat \t 0.06666666666666667 \t 0.23443388187821\n",
      "               puasa \t 0.06666666666666667 \t 0.18822406984088028\n",
      "            ramadhan \t 0.06666666666666667 \t 0.021644071712857885\n",
      "               covid \t 0.06666666666666667 \t 0.1779473578523964\n",
      "                  jg \t 0.06666666666666667 \t 0.23443388187821\n",
      "                 dtg \t 0.06666666666666667 \t 0.2614648890854209\n",
      "                 wkt \t 0.06666666666666667 \t 0.2614648890854209\n",
      "             hhhhhhh \t 0.06666666666666667 \t 0.2614648890854209\n",
      "             komplak \t 0.06666666666666667 \t 0.2614648890854209\n",
      "                  lo \t 0.06666666666666667 \t 0.2614648890854209\n"
     ]
    }
   ],
   "source": [
    "# Check TF-IDF result\n",
    "index = 0\n",
    "\n",
    "print('%20s' % \"term\", \"\\t\", '%10s' % \"TF\", \"\\t\", '%20s' % \"TF-IDF\\n\")\n",
    "for key in TWEET_DATA[\"TF-IDF_dict\"][index]:\n",
    "    print('%20s' % key, \"\\t\", TWEET_DATA[\"TF_dict\"][index][key] ,\"\\t\" , TWEET_DATA[\"TF-IDF_dict\"][index][key])\n"
   ]
  },
  {
   "cell_type": "code",
   "execution_count": 30,
   "metadata": {
    "collapsed": false
   },
   "outputs": [
    {
     "name": "stdout",
     "output_type": "stream",
     "text": [
      "print first row matrix TF_IDF_Vec Series\n",
      "\n",
      "[0.021644071712857885, 0.0, 0.0, 0.0, 0.1779473578523964, 0.0, 0.0, 0.18822406984088028, 0.0, 0.0, 0.0, 0.0, 0.0, 0.0, 0.0, 0.0, 0.0, 0.0, 0.0, 0.0, 0.0, 0.0, 0.0, 0.0, 0.0, 0.0, 0.0, 0.0, 0.0, 0.0, 0.0, 0.0, 0.0, 0.0, 0.0, 0.0, 0.0, 0.0, 0.0, 0.23443388187821, 0.23443388187821, 0.23443388187821, 0.0, 0.0, 0.0, 0.0, 0.0, 0.0, 0.0, 0.0]\n",
      "\n",
      "matrix size :  50\n"
     ]
    }
   ],
   "source": [
    "# sort descending by value for DF dictionary\n",
    "sorted_DF = sorted(DF.items(), key=lambda kv: kv[1], reverse=True)[:50]\n",
    "\n",
    "# Create a list of unique words from sorted dictionay `sorted_DF`\n",
    "unique_term = [item[0] for item in sorted_DF]\n",
    "\n",
    "def calc_TF_IDF_Vec(__TF_IDF_Dict):\n",
    "    TF_IDF_vector = [0.0] * len(unique_term)\n",
    "\n",
    "    # For each unique word, if it is in the review, store its TF-IDF value.\n",
    "    for i, term in enumerate(unique_term):\n",
    "        if term in __TF_IDF_Dict:\n",
    "            TF_IDF_vector[i] = __TF_IDF_Dict[term]\n",
    "    return TF_IDF_vector\n",
    "\n",
    "TWEET_DATA[\"TF_IDF_Vec\"] = TWEET_DATA[\"TF-IDF_dict\"].apply(calc_TF_IDF_Vec)\n",
    "\n",
    "print(\"print first row matrix TF_IDF_Vec Series\\n\")\n",
    "print(TWEET_DATA[\"TF_IDF_Vec\"][0])\n",
    "\n",
    "print(\"\\nmatrix size : \", len(TWEET_DATA[\"TF_IDF_Vec\"][0]))"
   ]
  },
  {
   "cell_type": "code",
   "execution_count": 31,
   "metadata": {
    "collapsed": false
   },
   "outputs": [
    {
     "data": {
      "text/html": [
       "<div>\n",
       "<style scoped>\n",
       "    .dataframe tbody tr th:only-of-type {\n",
       "        vertical-align: middle;\n",
       "    }\n",
       "\n",
       "    .dataframe tbody tr th {\n",
       "        vertical-align: top;\n",
       "    }\n",
       "\n",
       "    .dataframe thead th {\n",
       "        text-align: right;\n",
       "    }\n",
       "</style>\n",
       "<table border=\"1\" class=\"dataframe\">\n",
       "  <thead>\n",
       "    <tr style=\"text-align: right;\">\n",
       "      <th></th>\n",
       "      <th>term</th>\n",
       "      <th>rank</th>\n",
       "    </tr>\n",
       "  </thead>\n",
       "  <tbody>\n",
       "    <tr>\n",
       "      <th>5</th>\n",
       "      <td>makan</td>\n",
       "      <td>4.296687</td>\n",
       "    </tr>\n",
       "    <tr>\n",
       "      <th>0</th>\n",
       "      <td>ramadhan</td>\n",
       "      <td>3.483121</td>\n",
       "    </tr>\n",
       "    <tr>\n",
       "      <th>1</th>\n",
       "      <td>ibadah</td>\n",
       "      <td>2.469587</td>\n",
       "    </tr>\n",
       "    <tr>\n",
       "      <th>26</th>\n",
       "      <td>udah</td>\n",
       "      <td>2.367806</td>\n",
       "    </tr>\n",
       "    <tr>\n",
       "      <th>3</th>\n",
       "      <td>aman</td>\n",
       "      <td>2.287994</td>\n",
       "    </tr>\n",
       "    <tr>\n",
       "      <th>33</th>\n",
       "      <td>moga</td>\n",
       "      <td>2.272137</td>\n",
       "    </tr>\n",
       "    <tr>\n",
       "      <th>30</th>\n",
       "      <td>pasti</td>\n",
       "      <td>2.111156</td>\n",
       "    </tr>\n",
       "    <tr>\n",
       "      <th>2</th>\n",
       "      <td>sambut</td>\n",
       "      <td>2.092878</td>\n",
       "    </tr>\n",
       "    <tr>\n",
       "      <th>4</th>\n",
       "      <td>covid</td>\n",
       "      <td>2.084526</td>\n",
       "    </tr>\n",
       "    <tr>\n",
       "      <th>13</th>\n",
       "      <td>darurat</td>\n",
       "      <td>2.016686</td>\n",
       "    </tr>\n",
       "    <tr>\n",
       "      <th>11</th>\n",
       "      <td>mari</td>\n",
       "      <td>2.016686</td>\n",
       "    </tr>\n",
       "    <tr>\n",
       "      <th>12</th>\n",
       "      <td>nyaman</td>\n",
       "      <td>2.016686</td>\n",
       "    </tr>\n",
       "    <tr>\n",
       "      <th>6</th>\n",
       "      <td>jelang</td>\n",
       "      <td>1.990190</td>\n",
       "    </tr>\n",
       "    <tr>\n",
       "      <th>34</th>\n",
       "      <td>bang</td>\n",
       "      <td>1.845044</td>\n",
       "    </tr>\n",
       "    <tr>\n",
       "      <th>10</th>\n",
       "      <td>suci</td>\n",
       "      <td>1.637998</td>\n",
       "    </tr>\n",
       "    <tr>\n",
       "      <th>19</th>\n",
       "      <td>buka</td>\n",
       "      <td>1.541243</td>\n",
       "    </tr>\n",
       "    <tr>\n",
       "      <th>7</th>\n",
       "      <td>puasa</td>\n",
       "      <td>1.401930</td>\n",
       "    </tr>\n",
       "    <tr>\n",
       "      <th>20</th>\n",
       "      <td>orang</td>\n",
       "      <td>1.290021</td>\n",
       "    </tr>\n",
       "    <tr>\n",
       "      <th>42</th>\n",
       "      <td>sebentar</td>\n",
       "      <td>1.289386</td>\n",
       "    </tr>\n",
       "    <tr>\n",
       "      <th>15</th>\n",
       "      <td>ne</td>\n",
       "      <td>1.164821</td>\n",
       "    </tr>\n",
       "    <tr>\n",
       "      <th>21</th>\n",
       "      <td>tutup</td>\n",
       "      <td>1.160406</td>\n",
       "    </tr>\n",
       "    <tr>\n",
       "      <th>31</th>\n",
       "      <td>legend</td>\n",
       "      <td>1.144907</td>\n",
       "    </tr>\n",
       "    <tr>\n",
       "      <th>41</th>\n",
       "      <td>jg</td>\n",
       "      <td>1.113561</td>\n",
       "    </tr>\n",
       "    <tr>\n",
       "      <th>18</th>\n",
       "      <td>acara</td>\n",
       "      <td>1.018409</td>\n",
       "    </tr>\n",
       "    <tr>\n",
       "      <th>17</th>\n",
       "      <td>yuk</td>\n",
       "      <td>0.983921</td>\n",
       "    </tr>\n",
       "    <tr>\n",
       "      <th>16</th>\n",
       "      <td>negara</td>\n",
       "      <td>0.976966</td>\n",
       "    </tr>\n",
       "    <tr>\n",
       "      <th>14</th>\n",
       "      <td>main</td>\n",
       "      <td>0.856739</td>\n",
       "    </tr>\n",
       "    <tr>\n",
       "      <th>9</th>\n",
       "      <td>pas</td>\n",
       "      <td>0.821721</td>\n",
       "    </tr>\n",
       "    <tr>\n",
       "      <th>32</th>\n",
       "      <td>bentar</td>\n",
       "      <td>0.803446</td>\n",
       "    </tr>\n",
       "    <tr>\n",
       "      <th>24</th>\n",
       "      <td>tinggal</td>\n",
       "      <td>0.792792</td>\n",
       "    </tr>\n",
       "    <tr>\n",
       "      <th>22</th>\n",
       "      <td>doa</td>\n",
       "      <td>0.792530</td>\n",
       "    </tr>\n",
       "    <tr>\n",
       "      <th>27</th>\n",
       "      <td>ramadan</td>\n",
       "      <td>0.787987</td>\n",
       "    </tr>\n",
       "    <tr>\n",
       "      <th>8</th>\n",
       "      <td>ganti</td>\n",
       "      <td>0.785478</td>\n",
       "    </tr>\n",
       "    <tr>\n",
       "      <th>23</th>\n",
       "      <td>asing</td>\n",
       "      <td>0.763387</td>\n",
       "    </tr>\n",
       "    <tr>\n",
       "      <th>48</th>\n",
       "      <td>wa</td>\n",
       "      <td>0.712318</td>\n",
       "    </tr>\n",
       "    <tr>\n",
       "      <th>49</th>\n",
       "      <td>masuk</td>\n",
       "      <td>0.687438</td>\n",
       "    </tr>\n",
       "    <tr>\n",
       "      <th>28</th>\n",
       "      <td>penuh</td>\n",
       "      <td>0.648940</td>\n",
       "    </tr>\n",
       "    <tr>\n",
       "      <th>35</th>\n",
       "      <td>ku</td>\n",
       "      <td>0.639487</td>\n",
       "    </tr>\n",
       "    <tr>\n",
       "      <th>29</th>\n",
       "      <td>rangkai</td>\n",
       "      <td>0.632755</td>\n",
       "    </tr>\n",
       "    <tr>\n",
       "      <th>44</th>\n",
       "      <td>tingkat</td>\n",
       "      <td>0.599405</td>\n",
       "    </tr>\n",
       "    <tr>\n",
       "      <th>39</th>\n",
       "      <td>islam</td>\n",
       "      <td>0.586085</td>\n",
       "    </tr>\n",
       "    <tr>\n",
       "      <th>36</th>\n",
       "      <td>berkah</td>\n",
       "      <td>0.537896</td>\n",
       "    </tr>\n",
       "    <tr>\n",
       "      <th>38</th>\n",
       "      <td>libur</td>\n",
       "      <td>0.480457</td>\n",
       "    </tr>\n",
       "    <tr>\n",
       "      <th>25</th>\n",
       "      <td>ni</td>\n",
       "      <td>0.454530</td>\n",
       "    </tr>\n",
       "    <tr>\n",
       "      <th>40</th>\n",
       "      <td>dekat</td>\n",
       "      <td>0.454216</td>\n",
       "    </tr>\n",
       "    <tr>\n",
       "      <th>37</th>\n",
       "      <td>lebaran</td>\n",
       "      <td>0.439349</td>\n",
       "    </tr>\n",
       "    <tr>\n",
       "      <th>43</th>\n",
       "      <td>jumpa</td>\n",
       "      <td>0.411020</td>\n",
       "    </tr>\n",
       "    <tr>\n",
       "      <th>45</th>\n",
       "      <td>rumor</td>\n",
       "      <td>0.391839</td>\n",
       "    </tr>\n",
       "    <tr>\n",
       "      <th>46</th>\n",
       "      <td>victor</td>\n",
       "      <td>0.391839</td>\n",
       "    </tr>\n",
       "    <tr>\n",
       "      <th>47</th>\n",
       "      <td>paraguay</td>\n",
       "      <td>0.391839</td>\n",
       "    </tr>\n",
       "  </tbody>\n",
       "</table>\n",
       "</div>"
      ],
      "text/plain": [
       "        term      rank\n",
       "5      makan  4.296687\n",
       "0   ramadhan  3.483121\n",
       "1     ibadah  2.469587\n",
       "26      udah  2.367806\n",
       "3       aman  2.287994\n",
       "33      moga  2.272137\n",
       "30     pasti  2.111156\n",
       "2     sambut  2.092878\n",
       "4      covid  2.084526\n",
       "13   darurat  2.016686\n",
       "11      mari  2.016686\n",
       "12    nyaman  2.016686\n",
       "6     jelang  1.990190\n",
       "34      bang  1.845044\n",
       "10      suci  1.637998\n",
       "19      buka  1.541243\n",
       "7      puasa  1.401930\n",
       "20     orang  1.290021\n",
       "42  sebentar  1.289386\n",
       "15        ne  1.164821\n",
       "21     tutup  1.160406\n",
       "31    legend  1.144907\n",
       "41        jg  1.113561\n",
       "18     acara  1.018409\n",
       "17       yuk  0.983921\n",
       "16    negara  0.976966\n",
       "14      main  0.856739\n",
       "9        pas  0.821721\n",
       "32    bentar  0.803446\n",
       "24   tinggal  0.792792\n",
       "22       doa  0.792530\n",
       "27   ramadan  0.787987\n",
       "8      ganti  0.785478\n",
       "23     asing  0.763387\n",
       "48        wa  0.712318\n",
       "49     masuk  0.687438\n",
       "28     penuh  0.648940\n",
       "35        ku  0.639487\n",
       "29   rangkai  0.632755\n",
       "44   tingkat  0.599405\n",
       "39     islam  0.586085\n",
       "36    berkah  0.537896\n",
       "38     libur  0.480457\n",
       "25        ni  0.454530\n",
       "40     dekat  0.454216\n",
       "37   lebaran  0.439349\n",
       "43     jumpa  0.411020\n",
       "45     rumor  0.391839\n",
       "46    victor  0.391839\n",
       "47  paraguay  0.391839"
      ]
     },
     "execution_count": 31,
     "metadata": {},
     "output_type": "execute_result"
    }
   ],
   "source": [
    "# Convert Series to List\n",
    "TF_IDF_Vec_List = np.array(TWEET_DATA[\"TF_IDF_Vec\"].to_list())\n",
    "\n",
    "# Sum element vector in axis=0\n",
    "sums = TF_IDF_Vec_List.sum(axis=0)\n",
    "\n",
    "data = []\n",
    "\n",
    "for col, term in enumerate(unique_term):\n",
    "    data.append((term, sums[col]))\n",
    "\n",
    "ranking = pd.DataFrame(data, columns=['term', 'rank'])\n",
    "ranking.sort_values('rank', ascending=False)"
   ]
  },
  {
   "cell_type": "code",
   "execution_count": 32,
   "metadata": {
    "collapsed": false
   },
   "outputs": [],
   "source": [
    "ranking.to_csv(\"ranking_ramadhan.csv\")"
   ]
  },
  {
   "cell_type": "code",
   "execution_count": 34,
   "metadata": {},
   "outputs": [
    {
     "name": "stderr",
     "output_type": "stream",
     "text": [
      "Matplotlib is building the font cache; this may take a moment.\n"
     ]
    },
    {
     "data": {
      "image/png": "[encoded data removed]",
      "text/plain": [
       "<Figure size 1000x600 with 1 Axes>"
      ]
     },
     "metadata": {},
     "output_type": "display_data"
    },
    {
     "data": {
      "text/plain": [
       "[<matplotlib.lines.Line2D at 0x1ebfde32950>]"
      ]
     },
     "execution_count": 34,
     "metadata": {},
     "output_type": "execute_result"
    },
    {
     "data": {
      "image/png": "[encoded data removed]",
      "text/plain": [
       "<Figure size 640x480 with 1 Axes>"
      ]
     },
     "metadata": {},
     "output_type": "display_data"
    }
   ],
   "source": [
    "# visualisasi data\n",
    "import matplotlib.pyplot as plt\n",
    "\n",
    "# plot data\n",
    "terms = ranking['term']\n",
    "ranks = ranking['rank']\n",
    "\n",
    "plt.figure(figsize=(10, 6))\n",
    "plt.bar(terms, ranks)\n",
    "plt.title(\"TF-IDF Rankings\")\n",
    "plt.xlabel(\"Term\")\n",
    "plt.ylabel(\"Rank\")\n",
    "plt.xticks(rotation=45, ha='right')\n",
    "plt.show()\n",
    "plt.plot(ranking['term'], ranking['rank'])\n"
   ]
  },
  {
   "cell_type": "code",
   "execution_count": null,
   "metadata": {},
   "outputs": [],
   "source": [
    "# next step?\n",
    "\n",
    "\"\"\"\n",
    "Information Retrieval (IR): Hasil perengkingan dapat digunakan untuk mengurutkan dokumen dalam mesin pencari, sehingga hasil pencarian yang diberikan lebih relevan dan sesuai dengan kata kunci yang diinputkan oleh pengguna.\n",
    "Text Classification: Hasil perengkingan dapat digunakan sebagai fitur dalam model klasifikasi teks, seperti Naive Bayes, SVM, atau Random Forest. Contohnya, kata-kata dengan nilai TF-IDF tertinggi dapat digunakan sebagai fitur penting dalam klasifikasi topik atau sentimen.\n",
    "Keyword Extraction: Kata-kata dengan nilai TF-IDF tertinggi dapat digunakan sebagai fitur penting untuk mengekstrak kata kunci dari dokumen. Contohnya, kata-kata yang memiliki nilai TF-IDF yang tinggi dalam dokumen yang berkaitan dengan suatu topik dapat dianggap sebagai kata kunci penting untuk topik tersebut.\n",
    "Text Summarization: Seperti yang telah kita bahas sebelumnya, hasil perengkingan dapat digunakan untuk membuat ringkasan teks yang relevan dan representatif. Dokumen atau kalimat dengan nilai TF-IDF tertinggi dapat dipilih sebagai bagian dari ringkasan.\n",
    "Language Modeling: Hasil perengkingan dapat digunakan sebagai fitur dalam model bahasa yang mengukur probabilitas kemunculan kata dalam teks. Kata-kata dengan nilai TF-IDF yang tinggi dapat dianggap sebagai kata-kata yang penting dalam model tersebut.\n",
    "\"\"\""
   ]
  },
  {
   "cell_type": "code",
   "execution_count": null,
   "metadata": {},
   "outputs": [],
   "source": []
  }
 ],
 "metadata": {
  "kernelspec": {
   "display_name": "venv",
   "language": "python",
   "name": "python3"
  },
  "language_info": {
   "codemirror_mode": {
    "name": "ipython",
    "version": 3
   },
   "file_extension": ".py",
   "mimetype": "text/x-python",
   "name": "python",
   "nbconvert_exporter": "python",
   "pygments_lexer": "ipython3",
   "version": "3.11.2"
  },
  "vscode": {
   "interpreter": {
    "hash": "e35b65a10a724a097e34eb66734e5e0bfbeff59707341083634e9683dfa132af"
   }
  }
 },
 "nbformat": 4,
 "nbformat_minor": 0
}
